{
 "cells": [
  {
   "cell_type": "code",
   "execution_count": null,
   "metadata": {},
   "outputs": [],
   "source": [
    "PAIR PROGRAMING SENTENCIAS CONTROL      if-else y while"
   ]
  },
  {
   "cell_type": "markdown",
   "metadata": {},
   "source": [
    "1.Verificar si un número es positivo, negativo o cero. Descripción: Dado un número, verifica si es positivo, negativo o cero."
   ]
  },
  {
   "cell_type": "code",
   "execution_count": 39,
   "metadata": {},
   "outputs": [
    {
     "name": "stdout",
     "output_type": "stream",
     "text": [
      "-7\n",
      "negativo\n"
     ]
    }
   ],
   "source": [
    "numero = int(input())\n",
    "print(numero)\n",
    "\n",
    "if numero >=0:\n",
    "    if numero >0:\n",
    "        print(\"positivo\")\n",
    "    else:\n",
    "        print(\"cero\")\n",
    "else:\n",
    "    print(\"negativo\")"
   ]
  },
  {
   "cell_type": "markdown",
   "metadata": {},
   "source": [
    "2.Verificar si un número es par o impar. Descripción: Dado un número, verifica si es par o impar."
   ]
  },
  {
   "cell_type": "code",
   "execution_count": 47,
   "metadata": {},
   "outputs": [
    {
     "name": "stdout",
     "output_type": "stream",
     "text": [
      "77\n",
      "impar\n"
     ]
    }
   ],
   "source": [
    "numero = int(input())\n",
    "print(numero)\n",
    "\n",
    "if numero % 2 ==0:\n",
    "    print(\"par\")\n",
    "else:\n",
    "    print(\"impar\")\n"
   ]
  },
  {
   "cell_type": "markdown",
   "metadata": {},
   "source": [
    "3.Verificar si un estudiante aprobó o suspendió un examen. Descripción: Dada la calificación de un estudiante en un examen, verifica si aprobó o suspendió (si la calificación es mayor o igual a 60 se considera aprobado)."
   ]
  },
  {
   "cell_type": "code",
   "execution_count": 50,
   "metadata": {},
   "outputs": [
    {
     "name": "stdout",
     "output_type": "stream",
     "text": [
      "60\n",
      "aprobado\n"
     ]
    }
   ],
   "source": [
    "calificacion = int(input())\n",
    "print(calificacion)\n",
    "\n",
    "if calificacion >=60:\n",
    "    print(\"aprobado\")\n",
    "    \n",
    "else:\n",
    "    print(\"suspenso\")\n"
   ]
  },
  {
   "cell_type": "markdown",
   "metadata": {},
   "source": [
    "4.Calcular el máximo entre dos números. Descripción: Dados dos números, encuentra el máximo entre ellos."
   ]
  },
  {
   "cell_type": "code",
   "execution_count": 54,
   "metadata": {},
   "outputs": [
    {
     "name": "stdout",
     "output_type": "stream",
     "text": [
      "55 76\n",
      "numero es maximo 76\n"
     ]
    }
   ],
   "source": [
    "dosnumero = int(input())\n",
    "tresnumero = int(input())\n",
    "print(dosnumero, tresnumero)\n",
    "\n",
    "if dosnumero > tresnumero:\n",
    "    print(\"numero es maximo\", dosnumero)\n",
    "else:\n",
    "    print(\"numero es maximo\", tresnumero)"
   ]
  },
  {
   "cell_type": "markdown",
   "metadata": {},
   "source": [
    "5.Verificar si una letra es una vocal o una consonante. Descripción: Dada una letra, verifica si es una vocal o una consonante."
   ]
  },
  {
   "cell_type": "code",
   "execution_count": 57,
   "metadata": {},
   "outputs": [
    {
     "name": "stdout",
     "output_type": "stream",
     "text": [
      "t\n",
      "consonante\n"
     ]
    }
   ],
   "source": [
    "letra = (input())\n",
    "print(letra)\n",
    "\n",
    "vocales = [\"a\", \"e\", \"i\", \"o\", \"u\"]\n",
    "\n",
    "if letra in vocales:\n",
    "    print(\"vocal\")\n",
    "else:\n",
    "    print(\"consonante\")\n"
   ]
  },
  {
   "cell_type": "markdown",
   "metadata": {},
   "source": [
    "6.Calcular el descuento en una compra según el monto total. Descripción: Dado el monto total de una compra, calcula el descuento aplicado según las siguientes condiciones: si el monto es mayor o igual a $100, aplica un descuento del 10%; de lo contrario, no aplica ningún descuento."
   ]
  },
  {
   "cell_type": "code",
   "execution_count": 60,
   "metadata": {},
   "outputs": [
    {
     "name": "stdout",
     "output_type": "stream",
     "text": [
      "150\n",
      "descuento: 15.0\n"
     ]
    }
   ],
   "source": [
    "montototal = int(input())\n",
    "print(montototal)\n",
    "\n",
    "if montototal >=100:\n",
    "    print(\"descuento:\", montototal *0.10)\n",
    "else:\n",
    "    print(\"sindecuento\")\n"
   ]
  },
  {
   "cell_type": "markdown",
   "metadata": {},
   "source": [
    "7.Verificar si un año es bisiesto o no. Descripción: Dado un año, verifica si es bisiesto o no (un año es bisiesto si es divisible entre 4, excepto aquellos divisibles entre 100 pero no entre 400)."
   ]
  },
  {
   "cell_type": "code",
   "execution_count": null,
   "metadata": {},
   "outputs": [],
   "source": []
  },
  {
   "cell_type": "markdown",
   "metadata": {},
   "source": [
    "8.Asignar una categoría a una edad. Descripción: Dada una edad, asigna una categoría según las siguientes condiciones: si la edad es menor de 18, la categoría es \"Menor de edad\"; si la edad está entre 18 y 64 (incluyendo ambos), la categoría es \"Adulto\"; de lo contrario, la categoría es \"Adulto mayor\"."
   ]
  },
  {
   "cell_type": "code",
   "execution_count": 67,
   "metadata": {},
   "outputs": [
    {
     "name": "stdout",
     "output_type": "stream",
     "text": [
      "64\n",
      "adulto\n"
     ]
    }
   ],
   "source": [
    "edad = int(input())\n",
    "print(edad)\n",
    "\n",
    "if edad >64:\n",
    "    print(\"adultomayor\")\n",
    "else:\n",
    "    if 18<= edad <=64:\n",
    "        print(\"adulto\")\n",
    "    else:\n",
    "        print(\"menoredad\")"
   ]
  },
  {
   "cell_type": "markdown",
   "metadata": {},
   "source": [
    "9.Verificar si tres números forman un triángulo rectángulo. Descripción: Dados tres números, verifica si forman un triángulo rectángulo (si se cumple el teorema de Pitágoras)."
   ]
  },
  {
   "cell_type": "code",
   "execution_count": 34,
   "metadata": {},
   "outputs": [
    {
     "name": "stdout",
     "output_type": "stream",
     "text": [
      "8.0 6.0 10.0\n",
      "es_un_triangulo_rectangulo\n"
     ]
    }
   ],
   "source": [
    "valor1 = float(input())\n",
    "valor2 = float(input())\n",
    "valor3 = float(input())\n",
    "print(valor1, valor2, valor3)\n",
    "\n",
    "if valor1**2 == valor2**2 + valor3**2:\n",
    "    print(\"es_un_triangulo_rectangulo\")\n",
    "elif valor2**2 == valor1**2 + valor3**2:\n",
    "    print(\"es_un_triangulo_rectangulo\")\n",
    "elif valor3**2 == valor1**2 + valor2**2:\n",
    "    print(\"es_un_triangulo_rectangulo\")\n",
    "else:\n",
    "    print(\"no_es_un_triangulo_rectangulo\")\n"
   ]
  },
  {
   "cell_type": "markdown",
   "metadata": {},
   "source": [
    "10.Asignar una calificación a una puntuación\n",
    "Descripción: Dada una puntuación, asigna una calificación según las siguientes condiciones: si la puntuación es mayor o igual a 90, la calificación es \"A\"; si es mayor o igual a 80, la calificación es \"B\"; si es mayor o igual a 70, la calificación es \"C\"; si es mayor o igual a 60, la calificación es \"D\"; de lo contrario, la calificación es \"F\"."
   ]
  },
  {
   "cell_type": "code",
   "execution_count": 72,
   "metadata": {},
   "outputs": [
    {
     "name": "stdout",
     "output_type": "stream",
     "text": [
      "-5\n",
      "F\n"
     ]
    }
   ],
   "source": [
    "puntuacion = int(input())\n",
    "print(puntuacion)\n",
    "\n",
    "if puntuacion >=90:\n",
    "    print(\"A\")\n",
    "elif puntuacion >=80:\n",
    "    print(\"B\")\n",
    "elif puntuacion >=70:\n",
    "    print(\"C\")\n",
    "elif puntuacion >=60:\n",
    "    print(\"D\")\n",
    "else:\n",
    "    print(\"F\")"
   ]
  },
  {
   "cell_type": "markdown",
   "metadata": {},
   "source": [
    "11.Calcular el índice de masa corporal (IMC) y categorizarlo\n",
    "Descripción: Dados el peso (en kg) y la altura (en metros) de una persona, calcula su IMC y categorízalo según las siguientes condiciones: si el IMC es menor a 18.5, es \"Bajo peso\"; si está entre 18.5 y 24.9 (inclusive), es \"Peso normal\"; si está entre 25 y 29.9 (inclusive), es \"Sobrepeso\"; de lo contrario, es \"Obesidad\"."
   ]
  },
  {
   "cell_type": "code",
   "execution_count": 28,
   "metadata": {},
   "outputs": [
    {
     "name": "stdout",
     "output_type": "stream",
     "text": [
      "89.0 1.6\n",
      "34.76562499999999\n",
      "Obesidad\n"
     ]
    }
   ],
   "source": [
    "peso = float(input())\n",
    "altura = float(input())\n",
    "print(peso, altura)\n",
    "\n",
    "IMC = peso/altura**2\n",
    "print(IMC)\n",
    "\n",
    "if IMC <18.5:\n",
    "    print(\"Bajopeso\")\n",
    "elif 18.5<= IMC <=24.9:\n",
    "    print(\"Pesonormal\")\n",
    "elif 25<= IMC <=29.9:\n",
    "    print(\"Sobrepeso\")\n",
    "else:\n",
    "    print(\"Obesidad\")"
   ]
  },
  {
   "cell_type": "markdown",
   "metadata": {},
   "source": [
    "12. Calcular el mayor de tres números. Descripción: Dados tres números, encuentra el mayor entre ellos."
   ]
  },
  {
   "cell_type": "code",
   "execution_count": 38,
   "metadata": {},
   "outputs": [
    {
     "name": "stdout",
     "output_type": "stream",
     "text": [
      "10.0 2.0 20.0\n",
      "numero es maximo 20.0\n"
     ]
    }
   ],
   "source": [
    "numeroa = float(input())\n",
    "numerob = float(input())\n",
    "numeroc = float(input())\n",
    "print(numeroa, numerob, numeroc)\n",
    "\n",
    "if numeroa > numerob and numeroa > numeroc:\n",
    "    print(\"numero es maximo\", numeroa)\n",
    "elif numerob > numeroa and numerob > numeroc:\n",
    "    print(\"numero es maximo\", numerob)\n",
    "else:\n",
    "    print(\"numero es maximo\", numeroc)"
   ]
  },
  {
   "cell_type": "markdown",
   "metadata": {},
   "source": [
    "BONUS 13.Verificar la validez de una fecha. Descripción: Dados el día, el mes y el año de una fecha, verifica si la fecha es válida."
   ]
  },
  {
   "cell_type": "markdown",
   "metadata": {},
   "source": [
    "EJERCICIOS WHILE\n",
    "\n",
    "1.Calcular la suma de los primeros 10 números naturales utilizando un bucle while\n",
    "Descripción: Utiliza un bucle while para calcular la suma de los primeros 10 números naturales (1 + 2 + 3 + ... + 10)."
   ]
  },
  {
   "cell_type": "code",
   "execution_count": 46,
   "metadata": {},
   "outputs": [
    {
     "name": "stdout",
     "output_type": "stream",
     "text": [
      "la_suma_de_todos 1\n",
      "la_suma_de_todos 3\n",
      "la_suma_de_todos 6\n",
      "la_suma_de_todos 10\n",
      "la_suma_de_todos 15\n",
      "la_suma_de_todos 21\n",
      "la_suma_de_todos 28\n",
      "la_suma_de_todos 36\n",
      "la_suma_de_todos 45\n",
      "la_suma_de_todos 55\n"
     ]
    }
   ],
   "source": [
    "suma = 0\n",
    "contador = 1\n",
    "\n",
    "while contador <=10:\n",
    "   suma += contador\n",
    "   contador +=1\n",
    "   print(\"la_suma_de_todos\", suma)"
   ]
  },
  {
   "cell_type": "markdown",
   "metadata": {},
   "source": [
    "2.Juego de adivinanza utilizando un bucle while\n",
    "Descripción: Crea un juego de adivinanza en el que el jugador tiene que adivinar un número secreto (tendrá que ser entre el 0 y el 10). Utiliza un bucle while para permitir múltiples intentos hasta que el jugador adivine correctamente."
   ]
  },
  {
   "cell_type": "code",
   "execution_count": 3,
   "metadata": {},
   "outputs": [],
   "source": [
    "import random"
   ]
  },
  {
   "cell_type": "code",
   "execution_count": 4,
   "metadata": {},
   "outputs": [],
   "source": [
    "adivinar = random.randint(1,3)\n",
    "\n",
    "option = True\n",
    "\n",
    "while option == True:\n",
    "    mi_numero = int(input(\"Adivina un numero del 1 al 10\"))\n",
    "    \n",
    "if mi_numero == adivinar:\n",
    "    print(\"Lo has adivinado\")\n",
    "    option = False\n",
    "   \n",
    "else:\n",
    "    print(\"Sigue intentandolo\")"
   ]
  },
  {
   "cell_type": "code",
   "execution_count": null,
   "metadata": {},
   "outputs": [],
   "source": [
    "random (0,1,2,3,4,5,6,7,8,9,10)"
   ]
  },
  {
   "cell_type": "code",
   "execution_count": 2,
   "metadata": {},
   "outputs": [
    {
     "data": {
      "text/plain": [
       "'tijera'"
      ]
     },
     "execution_count": 2,
     "metadata": {},
     "output_type": "execute_result"
    }
   ],
   "source": [
    "import random\n",
    "\n",
    "lista = [\"papel\", \"papel\", \"tijera\"]\n",
    "\n",
    "random.choice(lista)"
   ]
  }
 ],
 "metadata": {
  "kernelspec": {
   "display_name": "Python 3",
   "language": "python",
   "name": "python3"
  },
  "language_info": {
   "codemirror_mode": {
    "name": "ipython",
    "version": 3
   },
   "file_extension": ".py",
   "mimetype": "text/x-python",
   "name": "python",
   "nbconvert_exporter": "python",
   "pygments_lexer": "ipython3",
   "version": "3.12.1"
  }
 },
 "nbformat": 4,
 "nbformat_minor": 2
}
