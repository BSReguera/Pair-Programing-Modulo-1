{
 "cells": [
  {
   "cell_type": "markdown",
   "metadata": {},
   "source": [
    "# PAIR PROGRAMMING - EJERCICIOS LISTAS Y TUPLAS"
   ]
  },
  {
   "cell_type": "markdown",
   "metadata": {},
   "source": [
    "--EJERCICIOS DE LISTAS--"
   ]
  },
  {
   "cell_type": "markdown",
   "metadata": {},
   "source": [
    "1. Duplicar elementos de una lista. Descripción: Dada una lista de números, duplica cada elemento en la lista. Ejemplo:\n",
    "dada la siguiente lista el output esperado es:\n",
    "lista = [2, 4, 6, 8]\n",
    "\n",
    "[2, 4, 6, 8, 2, 4, 6, 8]"
   ]
  },
  {
   "cell_type": "code",
   "execution_count": 1,
   "metadata": {},
   "outputs": [
    {
     "name": "stdout",
     "output_type": "stream",
     "text": [
      "[2, 4, 6, 8]\n"
     ]
    }
   ],
   "source": [
    "lista = [2, 4, 6, 8]\n",
    "print(lista)"
   ]
  },
  {
   "cell_type": "code",
   "execution_count": 3,
   "metadata": {},
   "outputs": [],
   "source": [
    "lista_duplicada = lista + lista"
   ]
  },
  {
   "cell_type": "code",
   "execution_count": 4,
   "metadata": {},
   "outputs": [
    {
     "name": "stdout",
     "output_type": "stream",
     "text": [
      "[2, 4, 6, 8, 2, 4, 6, 8]\n"
     ]
    }
   ],
   "source": [
    "print(lista_duplicada)"
   ]
  },
  {
   "cell_type": "markdown",
   "metadata": {},
   "source": [
    "2. Combinar dos listas\n",
    "Descripción: Dadas dos listas, crea una nueva lista que contenga todos los elementos de ambas listas. Ejemplo: dadas las siguientes listas el output esperado es:\n",
    "lista1 = [1, 2, 3]\n",
    "lista2 = [4, 5, 6]\n",
    "\n",
    "[1, 2, 3, 4, 5, 6]"
   ]
  },
  {
   "cell_type": "code",
   "execution_count": 17,
   "metadata": {},
   "outputs": [],
   "source": [
    "lista1 = [1, 2, 3]\n",
    "lista2 = [4, 5, 6]\n",
    "lista3 = lista1 + lista2"
   ]
  },
  {
   "cell_type": "code",
   "execution_count": 18,
   "metadata": {},
   "outputs": [
    {
     "name": "stdout",
     "output_type": "stream",
     "text": [
      "[1, 2, 3]\n",
      "[4, 5, 6]\n",
      "[1, 2, 3, 4, 5, 6]\n"
     ]
    }
   ],
   "source": [
    "print(lista1)\n",
    "print(lista2)\n",
    "print(lista3)"
   ]
  },
  {
   "cell_type": "markdown",
   "metadata": {},
   "source": [
    "3. Calcular la suma de una lista de números:\n",
    "Descripción: Dada una lista de números, calcula la suma de todos los elementos."
   ]
  },
  {
   "cell_type": "code",
   "execution_count": 19,
   "metadata": {},
   "outputs": [
    {
     "name": "stdout",
     "output_type": "stream",
     "text": [
      "[6]\n"
     ]
    }
   ],
   "source": [
    "lista1 = [1 + 2 + 3]\n",
    "print(lista1)"
   ]
  },
  {
   "cell_type": "markdown",
   "metadata": {},
   "source": [
    "4.Encontrar el valor máximo en una lista\n",
    "Descripción: Dada una lista de números, encuentra el valor máximo."
   ]
  },
  {
   "cell_type": "code",
   "execution_count": 28,
   "metadata": {},
   "outputs": [
    {
     "name": "stdout",
     "output_type": "stream",
     "text": [
      "[1, 2, 3, 4, 5, 6]\n",
      "6\n"
     ]
    }
   ],
   "source": [
    "print(lista3)\n",
    "lista4 = max(lista3)\n",
    "print(lista4)"
   ]
  },
  {
   "cell_type": "markdown",
   "metadata": {},
   "source": [
    "5.Calcular la longitud de una lista\n",
    "Descripción: Dada una lista, calcula la cantidad de elementos que contiene."
   ]
  },
  {
   "cell_type": "code",
   "execution_count": 35,
   "metadata": {},
   "outputs": [
    {
     "name": "stdout",
     "output_type": "stream",
     "text": [
      "1\n"
     ]
    }
   ],
   "source": [
    "lista_de_longitud = len(lista1)\n",
    "print(lista_de_longitud)\n"
   ]
  },
  {
   "cell_type": "markdown",
   "metadata": {},
   "source": [
    "6. Encontrar el índice de un elemento en una lista\n",
    "Descripción: Dada una lista y un valor objetivo, encuentra el índice del primer elemento que coincida con el valor objetivo."
   ]
  },
  {
   "cell_type": "code",
   "execution_count": 46,
   "metadata": {},
   "outputs": [
    {
     "data": {
      "text/plain": [
       "2"
      ]
     },
     "execution_count": 46,
     "metadata": {},
     "output_type": "execute_result"
    }
   ],
   "source": [
    "lista5 = [1, 2, 3, 4, 3, 5, 6]\n",
    "3 in lista5\n",
    "lista5[0]\n",
    "lista5[1]\n",
    "lista5[2]\n",
    "lista5.count(3)\n",
    "lista5.index(3)"
   ]
  },
  {
   "cell_type": "code",
   "execution_count": 48,
   "metadata": {},
   "outputs": [
    {
     "data": {
      "text/plain": [
       "2"
      ]
     },
     "execution_count": 48,
     "metadata": {},
     "output_type": "execute_result"
    }
   ],
   "source": [
    "lista5.index(1)\n",
    "lista5.index(3)"
   ]
  },
  {
   "cell_type": "markdown",
   "metadata": {},
   "source": [
    "7.Contar ocurrencias de un elemento en una lista\n",
    "Descripción: Dada una lista y un valor objetivo, cuenta cuántas veces aparece el valor objetivo en la lista."
   ]
  },
  {
   "cell_type": "code",
   "execution_count": 49,
   "metadata": {},
   "outputs": [
    {
     "data": {
      "text/plain": [
       "2"
      ]
     },
     "execution_count": 49,
     "metadata": {},
     "output_type": "execute_result"
    }
   ],
   "source": [
    "lista5 = [1, 2, 3, 4, 3, 5, 6]\n",
    "lista5.count(3)"
   ]
  },
  {
   "cell_type": "code",
   "execution_count": null,
   "metadata": {},
   "outputs": [],
   "source": [
    "8. Obtener una sublista de una lista\n",
    "Descripción: Dada una lista, crea una nueva lista que contenga los elementos desde el índice 2 hasta el índice 5 (sin incluirlo)."
   ]
  },
  {
   "cell_type": "code",
   "execution_count": 53,
   "metadata": {},
   "outputs": [
    {
     "name": "stdout",
     "output_type": "stream",
     "text": [
      "[3, 4, 3]\n"
     ]
    }
   ],
   "source": [
    "lista6 = [1, 2, 3, 4, 3, 5, 6, 7]\n",
    "lista7= lista6[2:5]\n",
    "print(lista7)"
   ]
  },
  {
   "cell_type": "markdown",
   "metadata": {},
   "source": [
    "9. Obtener el último elemento de una lista\n",
    "Descripción: Dada una lista, obtén el último elemento."
   ]
  },
  {
   "cell_type": "code",
   "execution_count": 56,
   "metadata": {},
   "outputs": [
    {
     "name": "stdout",
     "output_type": "stream",
     "text": [
      "[1, 2, 3, 4, 3, 5, 6, 7]\n"
     ]
    }
   ],
   "source": [
    "lista6 = [1, 2, 3, 4, 3, 5, 6, 7]\n",
    "print(lista6)"
   ]
  },
  {
   "cell_type": "code",
   "execution_count": 57,
   "metadata": {},
   "outputs": [
    {
     "data": {
      "text/plain": [
       "7"
      ]
     },
     "execution_count": 57,
     "metadata": {},
     "output_type": "execute_result"
    }
   ],
   "source": [
    "lista6[-1]"
   ]
  },
  {
   "cell_type": "markdown",
   "metadata": {},
   "source": [
    "10.Obtener el último elemento de una lista\n",
    "Descripción: Dada una lista, obtén el último elemento."
   ]
  },
  {
   "cell_type": "markdown",
   "metadata": {},
   "source": [
    "11.Obtener una sublista de una lista\n",
    "Descripción: Dada una lista, obtén una sublista que contenga los elementos desde el índice 1 hasta el índice 3 (sin incluirlo)."
   ]
  },
  {
   "cell_type": "code",
   "execution_count": 61,
   "metadata": {},
   "outputs": [
    {
     "name": "stdout",
     "output_type": "stream",
     "text": [
      "[1, 2, 3, 4, 3, 5, 6, 7]\n",
      "[2, 3]\n"
     ]
    }
   ],
   "source": [
    "lista6 = [1, 2, 3, 4, 3, 5, 6, 7]\n",
    "print(lista6)\n",
    "lista8 = lista6[1:3]\n",
    "print(lista8)\n"
   ]
  },
  {
   "cell_type": "markdown",
   "metadata": {},
   "source": [
    "12.Reemplazar un elemento en una lista\n",
    "Descripción: Dada una lista, reemplaza el segundo elemento con un nuevo valor."
   ]
  },
  {
   "cell_type": "code",
   "execution_count": 2,
   "metadata": {},
   "outputs": [
    {
     "name": "stdout",
     "output_type": "stream",
     "text": [
      "Lista original: [1, 2, 3, 4, 5]\n",
      "Lista modificada [1, 10, 3, 4, 5]\n"
     ]
    }
   ],
   "source": [
    "mi_listanueva = [1, 2, 3, 4, 5]\n",
    "print(\"Lista original:\", mi_listanueva)\n",
    "mi_listanueva[1] = 10\n",
    "print(\"Lista modificada\", mi_listanueva)"
   ]
  },
  {
   "cell_type": "markdown",
   "metadata": {},
   "source": [
    "13.Obtener una lista inversa\n",
    "Descripción: Dada una lista, obtén una nueva lista que contenga los elementos en orden inverso."
   ]
  },
  {
   "cell_type": "code",
   "execution_count": 13,
   "metadata": {},
   "outputs": [
    {
     "name": "stdout",
     "output_type": "stream",
     "text": [
      "[1, 2, 3, 4, 3, 5, 6, 7]\n",
      "[1, 2, 3, 4, 3, 5, 6, 7]\n",
      "[7, 6, 5, 3, 4, 3, 2, 1]\n"
     ]
    }
   ],
   "source": [
    "lista6 = [1, 2, 3, 4, 3, 5, 6, 7]\n",
    "print(lista6)\n",
    "lista6_despuesdereverse = lista6.copy()\n",
    "print(lista6_despuesdereverse)\n",
    "lista6_despuesdereverse.reverse()\n",
    "print(lista6_despuesdereverse)"
   ]
  },
  {
   "cell_type": "markdown",
   "metadata": {},
   "source": [
    "14.Ordenar una lista en orden ascendente\n",
    "Descripción: Dada una lista de números, ordénala en orden ascendente."
   ]
  },
  {
   "cell_type": "code",
   "execution_count": 19,
   "metadata": {},
   "outputs": [
    {
     "name": "stdout",
     "output_type": "stream",
     "text": [
      "[7, 6, 5, 4, 3, 2, 1]\n",
      "[1, 2, 3, 4, 5, 6, 7]\n"
     ]
    }
   ],
   "source": [
    "lista10 = [7, 6, 5, 4, 3, 2, 1]\n",
    "print(lista10)\n",
    "lista11 = sorted(lista10)\n",
    "print(lista11)"
   ]
  },
  {
   "cell_type": "markdown",
   "metadata": {},
   "source": [
    "--EJERCICIOS BONUS--"
   ]
  },
  {
   "cell_type": "markdown",
   "metadata": {},
   "source": [
    "15.Obtener elementos pares de una lista\n",
    "Descripción: Dada una lista, obtén una nueva lista que contenga solo los elementos en posiciones pares."
   ]
  },
  {
   "cell_type": "code",
   "execution_count": 25,
   "metadata": {},
   "outputs": [
    {
     "name": "stdout",
     "output_type": "stream",
     "text": [
      "[7, 6, 5, 4, 3, 2, 1]\n",
      "[6, 4, 2]\n"
     ]
    }
   ],
   "source": [
    "lista10 = [7, 6, 5, 4, 3, 2, 1]\n",
    "print(lista10)\n",
    "lista12 = lista10[1::2]\n",
    "print(lista12)"
   ]
  },
  {
   "cell_type": "markdown",
   "metadata": {},
   "source": [
    "16.Obtener una sublista saltando elementos\n",
    "Descripción: Dada una lista, obtén una sublista que contenga los elementos saltando de 3 en 3."
   ]
  },
  {
   "cell_type": "code",
   "execution_count": 29,
   "metadata": {},
   "outputs": [
    {
     "name": "stdout",
     "output_type": "stream",
     "text": [
      "[1, 2, 3, 4, 5, 6, 7, 8, 9, 10, 11, 12, 13, 14]\n",
      "[3, 6, 9, 12]\n"
     ]
    }
   ],
   "source": [
    "lista13 = [1, 2, 3, 4, 5, 6, 7, 8, 9, 10, 11, 12, 13, 14]\n",
    "print(lista13)\n",
    "lista14 = lista13[2::3]\n",
    "print(lista14)"
   ]
  },
  {
   "cell_type": "markdown",
   "metadata": {},
   "source": [
    "17.Encontrar el segundo valor máximo en una lista. Descripción: Dada una lista de números, encuentra el segundo valor máximo."
   ]
  },
  {
   "cell_type": "code",
   "execution_count": 13,
   "metadata": {},
   "outputs": [
    {
     "name": "stdout",
     "output_type": "stream",
     "text": [
      "[1, 2, 3, 4, 5, 6, 7, 8, 9, 10, 11, 12, 13, 14]\n",
      "segundo valor máximo: 13\n"
     ]
    }
   ],
   "source": [
    "lista13 = [1, 2, 3, 4, 5, 6, 7, 8, 9, 10, 11, 12, 13, 14]\n",
    "print(lista13)\n",
    "lista_ordenada = sorted(lista13, reverse=True)\n",
    "segundo_maximo = lista_ordenada[1]\n",
    "print(\"segundo valor máximo:\", segundo_maximo)"
   ]
  },
  {
   "cell_type": "code",
   "execution_count": 1,
   "metadata": {},
   "outputs": [
    {
     "name": "stdout",
     "output_type": "stream",
     "text": [
      "Esta es la lista inicial: [3, 5, 7, 8, 9, 3, 5, 0, 1, 4, 7]\n",
      "Esta es la lista cuando eliminamos el elemento maximo: [3, 5, 7, 8, 3, 5, 0, 1, 4, 7]\n",
      "Esta es el segundo elemento maximo: 8\n"
     ]
    }
   ],
   "source": [
    "lista_bonus4 = [3, 5, 7, 8, 9, 3, 5, 0, 1, 4, 7]\n",
    "print(\"Esta es la lista inicial:\", lista_bonus4)\n",
    "#eliminamos el elemento maximo de la lista\n",
    "lista_bonus4.pop(lista_bonus4.index(max(lista_bonus4)))\n",
    "print(\"Esta es la lista cuando eliminamos el elemento maximo:\", lista_bonus4)\n",
    "print(\"Esta es el segundo elemento maximo:\", max(lista_bonus4))"
   ]
  },
  {
   "cell_type": "code",
   "execution_count": 3,
   "metadata": {},
   "outputs": [
    {
     "name": "stdout",
     "output_type": "stream",
     "text": [
      "[3, 5, 7, 3, 5, 0, 1, 4, 7]\n"
     ]
    }
   ],
   "source": [
    "lista_bonus4 = [3, 5, 7, 8, 9, 3, 5, 0, 1, 4, 7]\n",
    "max(lista_bonus4)\n",
    "lista_bonus4.index(max(lista_bonus4))\n",
    "lista_bonus4.pop(4)\n",
    "max(lista_bonus4)\n",
    "lista_bonus4.remove(max(lista_bonus4))\n",
    "max(lista_bonus4)\n",
    "print(lista_bonus4)"
   ]
  },
  {
   "cell_type": "markdown",
   "metadata": {},
   "source": [
    "18.Teórico. Debereis contestar la pregunta en una celda de markdown.\n",
    "Descripción: ¿Qué diferencia existe entre el .sort() y el sorted()"
   ]
  },
  {
   "cell_type": "markdown",
   "metadata": {},
   "source": [
    "Diferencia entre .sort() y .sorted():\n",
    "- .sort(): se aplica directamente a la lista y ordena los elementos en su lugar. No devuelve una nueva lista, sino que modifica la lista existente. Sobreexcribe en la lista original.\n",
    "- .sorted(): toma una iterable (como una lista) y devuelve una nueva lista que contiene los elementos ordenados. No modifica la lista original, por lo que se considera una función \"no destructiva\". Es decir, la ordena y devuelve otra lista (la cual debemos almacenar como una variable nueva). Por lo que no sobreescribe. "
   ]
  },
  {
   "cell_type": "markdown",
   "metadata": {},
   "source": [
    "19.Agregar elementos a una lista utilizando append y extend\n",
    "Descripción: Dada una lista inicial, agrega nuevos elementos utilizando tanto append como extend y observa las diferencias en el resultado final. El elemento que deberéis usar para añadir a la lista original tiene que ser una lista."
   ]
  },
  {
   "cell_type": "code",
   "execution_count": 15,
   "metadata": {},
   "outputs": [
    {
     "name": "stdout",
     "output_type": "stream",
     "text": [
      "[1, 2, 3, 4, 5, 6, 7, 8, 9, 10, 11, 12, 13, 14]\n",
      "Lista despues de append: [1, 2, 3, 4, 5, 6, 7, 8, 9, 10, 11, 12, 13, 14, [15, 16, 17, 18]]\n"
     ]
    }
   ],
   "source": [
    "lista13 = [1, 2, 3, 4, 5, 6, 7, 8, 9, 10, 11, 12, 13, 14]\n",
    "print(lista13)\n",
    "nuevos_elementoaniadir = [15, 16, 17, 18]\n",
    "lista13.append(nuevos_elementoaniadir)\n",
    "print(\"Lista despues de append:\", lista13)"
   ]
  },
  {
   "cell_type": "code",
   "execution_count": 16,
   "metadata": {},
   "outputs": [
    {
     "name": "stdout",
     "output_type": "stream",
     "text": [
      "[1, 2, 3, 4, 5, 6, 7, 8, 9, 10, 11, 12, 13, 14]\n",
      "Lista despues de extend: [1, 2, 3, 4, 5, 6, 7, 8, 9, 10, 11, 12, 13, 14, 15, 16, 17, 18]\n"
     ]
    }
   ],
   "source": [
    "lista13 = [1, 2, 3, 4, 5, 6, 7, 8, 9, 10, 11, 12, 13, 14]\n",
    "print(lista13)\n",
    "nuevos_elementoaniadir = [15, 16, 17, 18]\n",
    "lista13.extend(nuevos_elementoaniadir)\n",
    "print(\"Lista despues de extend:\", lista13)"
   ]
  },
  {
   "cell_type": "markdown",
   "metadata": {},
   "source": [
    "Diferencia entre append() y extend():\n",
    "- append():  obtenemos una lista anidiada dentro de otra lista.\n",
    "- extend(): los elementos de la lista adicional se agregan directamente al final de la lista original."
   ]
  },
  {
   "cell_type": "markdown",
   "metadata": {},
   "source": [
    "20.Insertar un elemento en una posición específica\n",
    "Descripción: Dada una lista, inserta un nuevo elemento en una posición específica determinada por el usuario (debereis usar la función input para preguntar al usuario en que posición quiere insertar el elemento)."
   ]
  },
  {
   "cell_type": "code",
   "execution_count": 20,
   "metadata": {},
   "outputs": [
    {
     "name": "stdout",
     "output_type": "stream",
     "text": [
      "[1, 2, 3, 4, 5, 6, 7, 8, 9, 10, 11, 12, 13, 14]\n",
      "Lista despues de la inserción: [1, 2, 3, 4, 5, 20, 6, 7, 8, 9, 10, 11, 12, 13, 14]\n"
     ]
    }
   ],
   "source": [
    "lista13 = [1, 2, 3, 4, 5, 6, 7, 8, 9, 10, 11, 12, 13, 14]\n",
    "print(lista13)\n",
    "#Obtener la posición deseada del usuario\n",
    "posicion = int(input(\"Ingrese la posicion en la que desea ingresar el numero\"))\n",
    "nuevo_elemento = int(input(\"Ingrese el nuevo elemento a insertar:\"))\n",
    "lista13.insert(posicion, nuevo_elemento)\n",
    "print(\"Lista despues de la inserción:\", lista13)"
   ]
  },
  {
   "cell_type": "markdown",
   "metadata": {},
   "source": [
    "\n",
    "21.Verificar si un elemento está presente en una lista\n",
    "Descripción: Dada una lista, verifica si un elemento específico está presente en ella. Igual que el caso anterior, debereis preguntar al usuario que elemento quiere buscar en la lista. El resultado deberá ser True o False."
   ]
  },
  {
   "cell_type": "code",
   "execution_count": 22,
   "metadata": {},
   "outputs": [
    {
     "name": "stdout",
     "output_type": "stream",
     "text": [
      "[1, 2, 3, 4, 5, 6, 7, 8, 9, 10, 11, 12, 13, 14]\n",
      "¿El elemento 9 está presente en la lista? True\n"
     ]
    }
   ],
   "source": [
    "lista13 = [1, 2, 3, 4, 5, 6, 7, 8, 9, 10, 11, 12, 13, 14]\n",
    "print(lista13)\n",
    "#Obtener el elemento a buscar mediante un input\n",
    "elemento_abuscar =int(input(\"Ingrese el elemento que desea buscar en la lista13\"))\n",
    "#Verificar si el elemento esta presente en la lista mediante un booleano (T/F)\n",
    "esta_presente_en_la_lista = elemento_abuscar in lista13\n",
    "print(f\"¿El elemento {elemento_abuscar} está presente en la lista? {esta_presente_en_la_lista}\")\n"
   ]
  },
  {
   "cell_type": "markdown",
   "metadata": {},
   "source": [
    "22.Manipulación de una lista utilizando remove(), pop() y clear(). Descripción: Crea una lista inicial, realiza operaciones de eliminación y limpieza utilizando los métodos remove(), pop() y clear(), y observa cómo afectan a la lista."
   ]
  },
  {
   "cell_type": "code",
   "execution_count": 27,
   "metadata": {},
   "outputs": [
    {
     "name": "stdout",
     "output_type": "stream",
     "text": [
      "[10, 20, 30, 40, 50, 60, 70, 80]\n",
      "Despues de remove(40) [10, 20, 30, 50, 60, 70, 80]\n",
      "Despues de pop() [10, 20, 30, 50, 60, 70]\n",
      "Despues de clear() []\n"
     ]
    }
   ],
   "source": [
    "lista15 = [10, 20, 30, 40, 50, 60, 70, 80]\n",
    "print(lista15)\n",
    "#Utilizar remove() para eliminar un elemento especifico:\n",
    "lista15.remove(40)\n",
    "print(\"Despues de remove(40)\", lista15)\n",
    "#Utilizar pop() para eliminar un elemento (el último):\n",
    "elemento_aeliminar = lista15.pop()\n",
    "print(\"Despues de pop()\",lista15)\n",
    "#Utilizar clear() para vaciar la lista:\n",
    "lista15.clear()\n",
    "print(\"Despues de clear()\", lista15)"
   ]
  },
  {
   "cell_type": "markdown",
   "metadata": {},
   "source": [
    "Diferencias y usos de...remove(), pop() y clear():\n",
    "\n",
    "-\tremove(): Elimina el primer elemento de la lista que coincida con el valor especificado.\n",
    "-\tpop(): Elimina y devuelve el último elemento de la lista.\n",
    "-\tclear():  Elimina todos los elementos de la lista y la deja vacía. "
   ]
  },
  {
   "cell_type": "markdown",
   "metadata": {},
   "source": [
    "--EJERCICIOS DE TUPLAS--"
   ]
  },
  {
   "cell_type": "markdown",
   "metadata": {},
   "source": [
    "1.Acceder al primer elemento de una tupla   Descripción: Dada una tupla, obtén el primer elemento."
   ]
  },
  {
   "cell_type": "code",
   "execution_count": 32,
   "metadata": {},
   "outputs": [
    {
     "name": "stdout",
     "output_type": "stream",
     "text": [
      "('Fatima', 'Laura', 'Patricia')\n"
     ]
    },
    {
     "data": {
      "text/plain": [
       "'Fatima'"
      ]
     },
     "execution_count": 32,
     "metadata": {},
     "output_type": "execute_result"
    }
   ],
   "source": [
    "tupla_nombres = (\"Fatima\", \"Laura\", \"Patricia\")\n",
    "print(tupla_nombres)\n",
    "tupla_nombres[0]"
   ]
  },
  {
   "cell_type": "markdown",
   "metadata": {},
   "source": [
    "2.Acceder al último elemento de una tupla. Descripción: Dada una tupla, obtén el último elemento."
   ]
  },
  {
   "cell_type": "code",
   "execution_count": 33,
   "metadata": {},
   "outputs": [
    {
     "name": "stdout",
     "output_type": "stream",
     "text": [
      "('Fatima', 'Laura', 'Patricia')\n"
     ]
    },
    {
     "data": {
      "text/plain": [
       "'Patricia'"
      ]
     },
     "execution_count": 33,
     "metadata": {},
     "output_type": "execute_result"
    }
   ],
   "source": [
    "tupla_nombres = (\"Fatima\", \"Laura\", \"Patricia\")\n",
    "print(tupla_nombres)\n",
    "tupla_nombres[-1]"
   ]
  },
  {
   "cell_type": "markdown",
   "metadata": {},
   "source": [
    "3.Obtener la longitud de una tupla. Descripción: Dada una tupla, obtén la cantidad de elementos que contiene."
   ]
  },
  {
   "cell_type": "code",
   "execution_count": 35,
   "metadata": {},
   "outputs": [
    {
     "name": "stdout",
     "output_type": "stream",
     "text": [
      "('Fatima', 'Laura', 'Patricia')\n",
      "3\n"
     ]
    }
   ],
   "source": [
    "tupla_nombres = (\"Fatima\", \"Laura\", \"Patricia\")\n",
    "print(tupla_nombres)\n",
    "tupla_nombres_longitud = len(tupla_nombres)\n",
    "print(tupla_nombres_longitud)"
   ]
  },
  {
   "cell_type": "markdown",
   "metadata": {},
   "source": [
    "4.Concatenar dos tuplas. Descripción: Dadas dos tuplas, crea una nueva tupla que contenga todos los elementos de ambas tuplas."
   ]
  },
  {
   "cell_type": "code",
   "execution_count": 50,
   "metadata": {},
   "outputs": [
    {
     "name": "stdout",
     "output_type": "stream",
     "text": [
      "('Fatima', 'Laura', 'Patricia')\n",
      "('carlos', 'pedro', 'juan')\n",
      "('Fatima', 'Laura', 'Patricia', 'carlos', 'pedro', 'juan')\n"
     ]
    }
   ],
   "source": [
    "tupla_nombres = (\"Fatima\", \"Laura\", \"Patricia\")\n",
    "print(tupla_nombres)\n",
    "tupla_nombres_chicos = (\"carlos\", \"pedro\", \"juan\")\n",
    "print(tupla_nombres_chicos)\n",
    "nueva_tupla_nombresconcatenar =tupla_nombres + tupla_nombres_chicos\n",
    "print(nueva_tupla_nombresconcatenar)"
   ]
  },
  {
   "cell_type": "markdown",
   "metadata": {},
   "source": [
    "5.Encontrar el índice de un elemento en una tupla\n",
    "Descripción: Dada una tupla y un valor objetivo, encuentra el índice del primer elemento que coincida con el valor objetivo."
   ]
  },
  {
   "cell_type": "code",
   "execution_count": 56,
   "metadata": {},
   "outputs": [
    {
     "name": "stdout",
     "output_type": "stream",
     "text": [
      "(1, 2, 3, 4, 5, 6, 7, 8, 9, 10, 11, 12, 13, 14)\n"
     ]
    },
    {
     "data": {
      "text/plain": [
       "4"
      ]
     },
     "execution_count": 56,
     "metadata": {},
     "output_type": "execute_result"
    }
   ],
   "source": [
    "tupla_numerica = (1, 2, 3, 4, 5, 6, 7, 8, 9, 10, 11, 12, 13, 14)\n",
    "print(tupla_numerica)\n",
    "5 in tupla_numerica\n",
    "tupla_numerica.index(5)"
   ]
  },
  {
   "cell_type": "markdown",
   "metadata": {},
   "source": [
    "6.Contar ocurrencias de un elemento en una tupla. Descripción: Dada una tupla y un valor objetivo, cuenta cuántas veces aparece el valor objetivo en la tupla."
   ]
  },
  {
   "cell_type": "code",
   "execution_count": 57,
   "metadata": {},
   "outputs": [
    {
     "name": "stdout",
     "output_type": "stream",
     "text": [
      "(1, 2, 3, 4, 5, 6, 7, 8, 9, 10, 11, 12, 13, 14)\n"
     ]
    },
    {
     "data": {
      "text/plain": [
       "1"
      ]
     },
     "execution_count": 57,
     "metadata": {},
     "output_type": "execute_result"
    }
   ],
   "source": [
    "tupla_numerica = (1, 2, 3, 4, 5, 6, 7, 8, 9, 10, 11, 12, 13, 14)\n",
    "print(tupla_numerica)\n",
    "5 in tupla_numerica\n",
    "tupla_numerica.count(5)"
   ]
  },
  {
   "cell_type": "markdown",
   "metadata": {},
   "source": [
    "7. Obtener una subtuple de una tupla. Descripción: Dada una tupla, crea una nueva tupla que contenga los elementos desde el índice 1 hasta el índice 3 (sin incluirlo)."
   ]
  },
  {
   "cell_type": "code",
   "execution_count": 5,
   "metadata": {},
   "outputs": [
    {
     "name": "stdout",
     "output_type": "stream",
     "text": [
      "(1, 2, 3, 4, 5, 6, 7, 8, 9, 10, 11, 12, 13, 14)\n"
     ]
    },
    {
     "data": {
      "text/plain": [
       "(2, 3)"
      ]
     },
     "execution_count": 5,
     "metadata": {},
     "output_type": "execute_result"
    }
   ],
   "source": [
    "tupla_numerica = (1, 2, 3, 4, 5, 6, 7, 8, 9, 10, 11, 12, 13, 14)\n",
    "print(tupla_numerica)\n",
    "tupla_numerica[1:3]"
   ]
  },
  {
   "cell_type": "markdown",
   "metadata": {},
   "source": [
    "8.Invertir una tupla. Descripción: Dada una tupla, inviértela en orden."
   ]
  },
  {
   "cell_type": "code",
   "execution_count": 10,
   "metadata": {},
   "outputs": [
    {
     "name": "stdout",
     "output_type": "stream",
     "text": [
      "[1, 2, 3, 4, 3, 5, 6, 7]\n",
      "[1, 2, 3, 4, 3, 5, 6, 7]\n",
      "[7, 6, 5, 3, 4, 3, 2, 1]\n"
     ]
    }
   ],
   "source": [
    "lista6 = [1, 2, 3, 4, 3, 5, 6, 7]\n",
    "print(lista6)\n",
    "lista6_despuesdereverse = lista6.copy()\n",
    "print(lista6_despuesdereverse)\n",
    "lista6_despuesdereverse.reverse()\n",
    "print(lista6_despuesdereverse)"
   ]
  }
 ],
 "metadata": {
  "kernelspec": {
   "display_name": "Python 3",
   "language": "python",
   "name": "python3"
  },
  "language_info": {
   "codemirror_mode": {
    "name": "ipython",
    "version": 3
   },
   "file_extension": ".py",
   "mimetype": "text/x-python",
   "name": "python",
   "nbconvert_exporter": "python",
   "pygments_lexer": "ipython3",
   "version": "3.11.5"
  }
 },
 "nbformat": 4,
 "nbformat_minor": 2
}
