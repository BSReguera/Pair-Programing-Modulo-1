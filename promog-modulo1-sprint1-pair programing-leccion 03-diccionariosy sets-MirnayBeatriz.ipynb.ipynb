{
 "cells": [
  {
   "cell_type": "markdown",
   "metadata": {},
   "source": [
    "# PAIR PROGRAMMING - EJERCICIOS DICCIONARIOS Y SETS"
   ]
  },
  {
   "cell_type": "markdown",
   "metadata": {},
   "source": [
    "--EJERCICIOS DE DICCIONARIOS--"
   ]
  },
  {
   "cell_type": "markdown",
   "metadata": {},
   "source": [
    "1.Crear un diccionario vacío. Descripción: Crea un diccionario vacío sin ningún par clave-valor."
   ]
  },
  {
   "cell_type": "code",
   "execution_count": 3,
   "metadata": {},
   "outputs": [
    {
     "name": "stdout",
     "output_type": "stream",
     "text": [
      "{}\n"
     ]
    }
   ],
   "source": [
    "dic1 = {}\n",
    "print(dic1)"
   ]
  },
  {
   "cell_type": "markdown",
   "metadata": {},
   "source": [
    "2.Crear un diccionario con elementos. Descripción: Crea un diccionario con pares clave-valor predefinidos. Definir el diccionario con las claves y valores que querais. NOTA El diccionario debe tener al menos 5 pares de clave:valor."
   ]
  },
  {
   "cell_type": "code",
   "execution_count": 4,
   "metadata": {},
   "outputs": [
    {
     "name": "stdout",
     "output_type": "stream",
     "text": [
      "{'Maria': 25, 'Ana': 35, 'Petra': 45, 'Raquel': 55, 'Sol': 67}\n"
     ]
    }
   ],
   "source": [
    "dic2 = {\"Maria\":25, \"Ana\":35, \"Petra\":45, \"Raquel\":55, \"Sol\":67}\n",
    "print(dic2)"
   ]
  },
  {
   "cell_type": "markdown",
   "metadata": {},
   "source": [
    "3.Acceder al valor de una clave en un diccionario. Descripción: Usando el diccionario creado en el paso anterior, obtén el valor correspondiente a una clave específica que indique el usuario (debereis usar la función input() para preguntar al usuario)."
   ]
  },
  {
   "cell_type": "code",
   "execution_count": 11,
   "metadata": {},
   "outputs": [
    {
     "name": "stdout",
     "output_type": "stream",
     "text": [
      "{'Maria': 25, 'Ana': 35, 'Petra': 45, 'Raquel': 55, 'Sol': 67}\n",
      "35\n"
     ]
    }
   ],
   "source": [
    "dic2 = {\"Maria\":25, \"Ana\":35, \"Petra\":45, \"Raquel\":55, \"Sol\":67}\n",
    "print(dic2)\n",
    "clave_ingresada = input()\n",
    "valor_correspondiente = dic2[clave_ingresada]\n",
    "print(valor_correspondiente)"
   ]
  },
  {
   "cell_type": "markdown",
   "metadata": {},
   "source": [
    "4.Agregar un nuevo par clave-valor a un diccionario. Descripción: Usando el diccionario creado en el ejercicio 2, agrega un nuevo par clave-valor."
   ]
  },
  {
   "cell_type": "code",
   "execution_count": 16,
   "metadata": {},
   "outputs": [
    {
     "name": "stdout",
     "output_type": "stream",
     "text": [
      "{'Maria': 25, 'Ana': 35, 'Petra': 45, 'Raquel': 55, 'Sol': 67}\n",
      "{'Maria': 25, 'Ana': 35, 'Petra': 45, 'Raquel': 55, 'Sol': 67, 'Iris': 76}\n"
     ]
    }
   ],
   "source": [
    "dic2 = {\"Maria\":25, \"Ana\":35, \"Petra\":45, \"Raquel\":55, \"Sol\":67}\n",
    "print(dic2)\n",
    "dic2[\"Iris\"] = 76\n",
    "print(dic2)"
   ]
  },
  {
   "cell_type": "markdown",
   "metadata": {},
   "source": [
    "5.Actualizar el valor de una clave en un diccionario. Descripción: Usando el diccionario creado en el ejercicio 2, actualiza el valor correspondiente a una clave existente. Ejemplo:"
   ]
  },
  {
   "cell_type": "code",
   "execution_count": 17,
   "metadata": {},
   "outputs": [
    {
     "name": "stdout",
     "output_type": "stream",
     "text": [
      "{'Maria': 25, 'Ana': 35, 'Petra': 45, 'Raquel': 55, 'Sol': 67}\n",
      "{'Maria': 75, 'Ana': 35, 'Petra': 45, 'Raquel': 55, 'Sol': 67}\n"
     ]
    }
   ],
   "source": [
    "dic2 = {\"Maria\":25, \"Ana\":35, \"Petra\":45, \"Raquel\":55, \"Sol\":67}\n",
    "print(dic2)\n",
    "dic2[\"Maria\"] = 75\n",
    "print(dic2)"
   ]
  },
  {
   "cell_type": "markdown",
   "metadata": {},
   "source": [
    "6.Eliminar un par clave-valor de un diccionario. Descripción: Usando el diccionario creado en el ejercicio 2, elimina un par clave-valor específico que indique el usuario (debereis usar la función input() para preguntar al usuario)."
   ]
  },
  {
   "cell_type": "code",
   "execution_count": 14,
   "metadata": {},
   "outputs": [
    {
     "name": "stdout",
     "output_type": "stream",
     "text": [
      "{'Maria': 25, 'Ana': 35, 'Petra': 45, 'Raquel': 55, 'Sol': 67}\n",
      "{'Maria': 25, 'Ana': 35, 'Raquel': 55, 'Sol': 67}\n"
     ]
    }
   ],
   "source": [
    "dic2 = {\"Maria\":25, \"Ana\":35, \"Petra\":45, \"Raquel\":55, \"Sol\":67}\n",
    "print(dic2)\n",
    "clave_valor = input()\n",
    "dic2.pop(clave_valor)\n",
    "print(dic2)\n"
   ]
  },
  {
   "cell_type": "markdown",
   "metadata": {},
   "source": [
    "7.Verificar si una clave está presente en un diccionario. Descripción: Usando el diccionario creado en el ejercicio 2, verifica si una clave específica está presente en él. La clave a buscar debe ser pasada por el usuario, debereis usar un input()."
   ]
  },
  {
   "cell_type": "code",
   "execution_count": 27,
   "metadata": {},
   "outputs": [
    {
     "name": "stdout",
     "output_type": "stream",
     "text": [
      "{'Maria': 25, 'Ana': 35, 'Petra': 45, 'Raquel': 55, 'Sol': 67}\n",
      "El valor de la clave Maria es:\n"
     ]
    },
    {
     "data": {
      "text/plain": [
       "25"
      ]
     },
     "execution_count": 27,
     "metadata": {},
     "output_type": "execute_result"
    }
   ],
   "source": [
    "dic2 = {\"Maria\":25, \"Ana\":35, \"Petra\":45, \"Raquel\":55, \"Sol\":67}\n",
    "print(dic2)\n",
    "clave_valorabuscar = input()\n",
    "print(\"El valor de la clave\", clave_valorabuscar, \"es:\")\n",
    "dic2.get(clave_valorabuscar)"
   ]
  },
  {
   "cell_type": "markdown",
   "metadata": {},
   "source": [
    "8.Obtener una lista de todas las claves de un diccionario\n",
    "Descripción: Usando el diccionario creado en el ejercicio 2, obtén una lista con todas las claves que contiene."
   ]
  },
  {
   "cell_type": "code",
   "execution_count": 8,
   "metadata": {},
   "outputs": [
    {
     "name": "stdout",
     "output_type": "stream",
     "text": [
      "{'Maria': 25, 'Ana': 35, 'Petra': 45, 'Raquel': 55, 'Sol': 67}\n"
     ]
    },
    {
     "data": {
      "text/plain": [
       "dict_keys(['Maria', 'Ana', 'Petra', 'Raquel', 'Sol'])"
      ]
     },
     "execution_count": 8,
     "metadata": {},
     "output_type": "execute_result"
    }
   ],
   "source": [
    "dic2 = {\"Maria\":25, \"Ana\":35, \"Petra\":45, \"Raquel\":55, \"Sol\":67}\n",
    "print(dic2)\n",
    "dic2.keys()"
   ]
  },
  {
   "cell_type": "markdown",
   "metadata": {},
   "source": [
    "9.Obtener una lista de todos los valores de un diccionario. Descripción: Usando el diccionario creado en el ejercicio 2, obtén una lista con todos los valores que contiene."
   ]
  },
  {
   "cell_type": "code",
   "execution_count": 9,
   "metadata": {},
   "outputs": [
    {
     "name": "stdout",
     "output_type": "stream",
     "text": [
      "{'Maria': 25, 'Ana': 35, 'Petra': 45, 'Raquel': 55, 'Sol': 67}\n"
     ]
    },
    {
     "data": {
      "text/plain": [
       "dict_values([25, 35, 45, 55, 67])"
      ]
     },
     "execution_count": 9,
     "metadata": {},
     "output_type": "execute_result"
    }
   ],
   "source": [
    "dic2 = {\"Maria\":25, \"Ana\":35, \"Petra\":45, \"Raquel\":55, \"Sol\":67}\n",
    "print(dic2)\n",
    "dic2.values()"
   ]
  },
  {
   "cell_type": "markdown",
   "metadata": {},
   "source": [
    "10.Utilizar el método setdefault() para establecer un valor predeterminado si la clave no existe. Descripción: Usando el diccionario creado en el ejercicio 2, obten el valor correspondiente a una clave. Si la clave no existe, establece un valor predeterminado y devuelve dicho valor."
   ]
  },
  {
   "cell_type": "code",
   "execution_count": 13,
   "metadata": {},
   "outputs": [
    {
     "name": "stdout",
     "output_type": "stream",
     "text": [
      "{'Maria': 25, 'Ana': 35, 'Petra': 45, 'Raquel': 55, 'Sol': 67}\n",
      "{'Maria': 25, 'Ana': 35, 'Petra': 45, 'Raquel': 55, 'Sol': 67, 'Clara': 88}\n"
     ]
    }
   ],
   "source": [
    "dic2 = {\"Maria\":25, \"Ana\":35, \"Petra\":45, \"Raquel\":55, \"Sol\":67}\n",
    "print(dic2)\n",
    "dic2.setdefault(\"Clara\", 88)\n",
    "print(dic2)"
   ]
  },
  {
   "cell_type": "markdown",
   "metadata": {},
   "source": [
    "11.Manipulación de un diccionario utilizando pop() y popitem(). Descripción: Usando el diccionario creado en el ejercicio 2, realiza operaciones de eliminación utilizando pop() y popitem(), y observa cómo afectan al diccionario."
   ]
  },
  {
   "cell_type": "code",
   "execution_count": 15,
   "metadata": {},
   "outputs": [
    {
     "name": "stdout",
     "output_type": "stream",
     "text": [
      "{'Maria': 25, 'Ana': 35, 'Petra': 45, 'Raquel': 55, 'Sol': 67}\n",
      "{'Maria': 25, 'Ana': 35, 'Raquel': 55, 'Sol': 67}\n"
     ]
    }
   ],
   "source": [
    "dic2 = {\"Maria\":25, \"Ana\":35, \"Petra\":45, \"Raquel\":55, \"Sol\":67}\n",
    "print(dic2)\n",
    "dic2.pop(\"Petra\")\n",
    "print(dic2)"
   ]
  },
  {
   "cell_type": "code",
   "execution_count": 16,
   "metadata": {},
   "outputs": [
    {
     "name": "stdout",
     "output_type": "stream",
     "text": [
      "{'Maria': 25, 'Ana': 35, 'Petra': 45, 'Raquel': 55, 'Sol': 67}\n",
      "{'Maria': 25, 'Ana': 35, 'Petra': 45, 'Raquel': 55}\n"
     ]
    }
   ],
   "source": [
    "dic2 = {\"Maria\":25, \"Ana\":35, \"Petra\":45, \"Raquel\":55, \"Sol\":67}\n",
    "print(dic2)\n",
    "dic2.popitem()\n",
    "print(dic2)"
   ]
  },
  {
   "cell_type": "markdown",
   "metadata": {},
   "source": [
    "--EJERCICIOS DE SETS --\n",
    "1. Crear un conjunto vacío. Descripción: Crea un conjunto vacío sin ningún elemento."
   ]
  },
  {
   "cell_type": "code",
   "execution_count": 27,
   "metadata": {},
   "outputs": [
    {
     "name": "stdout",
     "output_type": "stream",
     "text": [
      "{1, 2, 3}\n",
      "set()\n"
     ]
    },
    {
     "data": {
      "text/plain": [
       "set"
      ]
     },
     "execution_count": 27,
     "metadata": {},
     "output_type": "execute_result"
    }
   ],
   "source": [
    "set1 = {1, 2, 3}\n",
    "print(set1)\n",
    "set1.clear()\n",
    "print(set1)\n",
    "type(set1)"
   ]
  },
  {
   "cell_type": "code",
   "execution_count": 1,
   "metadata": {},
   "outputs": [
    {
     "data": {
      "text/plain": [
       "set"
      ]
     },
     "execution_count": 1,
     "metadata": {},
     "output_type": "execute_result"
    }
   ],
   "source": [
    "set1 = set()\n",
    "type(set1)"
   ]
  },
  {
   "cell_type": "markdown",
   "metadata": {},
   "source": [
    "2.Crear un conjunto con elementos. Descripción: Crea un conjunto con elementos predefinidos."
   ]
  },
  {
   "cell_type": "code",
   "execution_count": 29,
   "metadata": {},
   "outputs": [
    {
     "name": "stdout",
     "output_type": "stream",
     "text": [
      "{'c', 'd', 'b', 'e', 'a', 'f'}\n"
     ]
    }
   ],
   "source": [
    "set2 = {\"a\", \"b\", \"c\", \"d\", \"e\", \"f\"}\n",
    "print(set2)"
   ]
  },
  {
   "cell_type": "markdown",
   "metadata": {},
   "source": [
    "3. Agregar elementos a un conjunto. \n",
    "Descripción: Usando el set creado en el ejercicio 2, agrega nuevos elementos. Debereis agregar por separado:\n",
    "- Un elemento solo\n",
    "- Un par de elementos a la vez."
   ]
  },
  {
   "cell_type": "code",
   "execution_count": 34,
   "metadata": {},
   "outputs": [
    {
     "name": "stdout",
     "output_type": "stream",
     "text": [
      "{'c', 'd', 'b', 'e', 'a', 'f'}\n",
      "{'c', 'd', 'b', 'h', 'e', 'a', 'f'}\n",
      "{'b', 'h', 'f', 'a', 'k', 'd', 'e', 't', 'c'}\n"
     ]
    }
   ],
   "source": [
    "set2 = {\"a\", \"b\", \"c\", \"d\", \"e\", \"f\"}\n",
    "print(set2)\n",
    "set2.add(\"h\")\n",
    "print(set2)\n",
    "set2.update(\"k\", \"t\")\n",
    "print(set2)"
   ]
  },
  {
   "cell_type": "markdown",
   "metadata": {},
   "source": [
    "4.Eliminar un elemento de un conjunto. Descripción: Usando el set creado en el ejercicio 2, elimina un elemento especificado por el usuario."
   ]
  },
  {
   "cell_type": "code",
   "execution_count": 36,
   "metadata": {},
   "outputs": [
    {
     "name": "stdout",
     "output_type": "stream",
     "text": [
      "{'c', 'd', 'b', 'e', 'a', 'f'}\n",
      "{'c', 'd', 'e', 'a', 'f'}\n"
     ]
    }
   ],
   "source": [
    "set2 = {\"a\", \"b\", \"c\", \"d\", \"e\", \"f\"}\n",
    "print(set2)\n",
    "set2.remove(\"b\")\n",
    "print(set2)"
   ]
  },
  {
   "cell_type": "markdown",
   "metadata": {},
   "source": [
    "5. Verificar la pertenencia de un elemento en un conjunto. Descripción: Usando el set creado en el ejercicio 2, verifica si un elemento específico está presente en él."
   ]
  },
  {
   "cell_type": "code",
   "execution_count": 37,
   "metadata": {},
   "outputs": [
    {
     "name": "stdout",
     "output_type": "stream",
     "text": [
      "{'c', 'd', 'b', 'e', 'a', 'f'}\n"
     ]
    },
    {
     "data": {
      "text/plain": [
       "True"
      ]
     },
     "execution_count": 37,
     "metadata": {},
     "output_type": "execute_result"
    }
   ],
   "source": [
    "set2 = {\"a\", \"b\", \"c\", \"d\", \"e\", \"f\"}\n",
    "print(set2)\n",
    "\"b\" in set2"
   ]
  },
  {
   "cell_type": "markdown",
   "metadata": {},
   "source": [
    "6. Realizar una unión de conjuntos. Descripción: Dados dos conjuntos, realiza una unión de ellos."
   ]
  },
  {
   "cell_type": "code",
   "execution_count": 38,
   "metadata": {},
   "outputs": [
    {
     "name": "stdout",
     "output_type": "stream",
     "text": [
      "{1, 2, 3, 'd', 'b', 'f', 'e', 'c', 'a'}\n"
     ]
    }
   ],
   "source": [
    "set1 = {1, 2, 3}\n",
    "set2 = {\"a\", \"b\", \"c\", \"d\", \"e\", \"f\"}\n",
    "set3 = set1.union(set2)\n",
    "print(set3)"
   ]
  },
  {
   "cell_type": "markdown",
   "metadata": {},
   "source": [
    "7.Realizar una intersección de conjuntos. Descripción: Usando dos conjuntos de datos definidos en el ejercicio anterior, realiza una intersección de ellos."
   ]
  },
  {
   "cell_type": "code",
   "execution_count": 40,
   "metadata": {},
   "outputs": [
    {
     "name": "stdout",
     "output_type": "stream",
     "text": [
      "{'a'}\n"
     ]
    }
   ],
   "source": [
    "set1 = {1, 2, 3, \"a\"}\n",
    "set2 = {\"a\", \"b\", \"c\", \"d\", \"e\", \"f\"}\n",
    "set4 = set1.intersection(set2)\n",
    "print(set4)"
   ]
  },
  {
   "cell_type": "markdown",
   "metadata": {},
   "source": [
    "8.Realizar una diferencia de conjuntos. Descripción: Usando dos conjuntos de datos definidos en el ejercicio anterior, realiza una diferencia entre ellos."
   ]
  },
  {
   "cell_type": "code",
   "execution_count": 42,
   "metadata": {},
   "outputs": [
    {
     "name": "stdout",
     "output_type": "stream",
     "text": [
      "{'d', 'b', 'f', 'e', 'c'}\n"
     ]
    }
   ],
   "source": [
    "set1 = {1, 2, 3, \"a\"}\n",
    "set2 = {\"a\", \"b\", \"c\", \"d\", \"e\", \"f\"}\n",
    "set5 = set2.difference(set1)\n",
    "print(set5)"
   ]
  },
  {
   "cell_type": "markdown",
   "metadata": {},
   "source": [
    "9.Verificar si un conjunto es subconjunto de otro. Descripción: Dados dos conjuntos, verifica si uno es subconjunto del otro."
   ]
  },
  {
   "cell_type": "code",
   "execution_count": 45,
   "metadata": {},
   "outputs": [
    {
     "name": "stdout",
     "output_type": "stream",
     "text": [
      "True\n"
     ]
    }
   ],
   "source": [
    "set6 = {1, 2, 3, \"a\", \"b\"}\n",
    "set7 = {1, 2, 3, \"a\", \"b\", \"l\", 5, 6, 7 }\n",
    "set8 = set6.issubset(set7)\n",
    "print(set8)"
   ]
  }
 ],
 "metadata": {
  "kernelspec": {
   "display_name": "Python 3",
   "language": "python",
   "name": "python3"
  },
  "language_info": {
   "codemirror_mode": {
    "name": "ipython",
    "version": 3
   },
   "file_extension": ".py",
   "mimetype": "text/x-python",
   "name": "python",
   "nbconvert_exporter": "python",
   "pygments_lexer": "ipython3",
   "version": "3.12.1"
  }
 },
 "nbformat": 4,
 "nbformat_minor": 2
}
