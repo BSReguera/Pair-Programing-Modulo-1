{
 "cells": [
  {
   "cell_type": "markdown",
   "metadata": {},
   "source": [
    "PAIR PROGRAMMING MODULO 1- LECCION 01- VARIABLES"
   ]
  },
  {
   "cell_type": "markdown",
   "metadata": {},
   "source": [
    "1.Cread tres variables numéricas de tipo integer (entero), llamadas de la siguiente forma:\n",
    "numero1\n",
    "numero2\n",
    "numero3"
   ]
  },
  {
   "cell_type": "code",
   "execution_count": 13,
   "metadata": {},
   "outputs": [],
   "source": [
    "numero1 = 5\n",
    "numero2 = 8\n",
    "numero3 = 9"
   ]
  },
  {
   "cell_type": "markdown",
   "metadata": {},
   "source": [
    "2.Utilizando los operadores lógicos:\n",
    "En vuestro caso, es el numero1 mayor que el numero2\n",
    "Es el numero1 menor que el numero2 pero mayor que el numero3\n",
    "Es el numero3 igual que el numero2\n",
    "Es el numero2 distinto que el numero1"
   ]
  },
  {
   "cell_type": "code",
   "execution_count": 14,
   "metadata": {},
   "outputs": [
    {
     "data": {
      "text/plain": [
       "False"
      ]
     },
     "execution_count": 14,
     "metadata": {},
     "output_type": "execute_result"
    }
   ],
   "source": [
    "numero1 > numero2\n"
   ]
  },
  {
   "cell_type": "code",
   "execution_count": 15,
   "metadata": {},
   "outputs": [
    {
     "data": {
      "text/plain": [
       "False"
      ]
     },
     "execution_count": 15,
     "metadata": {},
     "output_type": "execute_result"
    }
   ],
   "source": [
    "numero3 < numero1 < numero2 "
   ]
  },
  {
   "cell_type": "code",
   "execution_count": 16,
   "metadata": {},
   "outputs": [
    {
     "data": {
      "text/plain": [
       "False"
      ]
     },
     "execution_count": 16,
     "metadata": {},
     "output_type": "execute_result"
    }
   ],
   "source": [
    "numero3 == numero2"
   ]
  },
  {
   "cell_type": "code",
   "execution_count": 17,
   "metadata": {},
   "outputs": [
    {
     "data": {
      "text/plain": [
       "True"
      ]
     },
     "execution_count": 17,
     "metadata": {},
     "output_type": "execute_result"
    }
   ],
   "source": [
    "numero2 != numero1"
   ]
  },
  {
   "cell_type": "markdown",
   "metadata": {},
   "source": [
    "3.Cread dos variables numéricas de tipo float (decimal) con dos decimales, llamdas de la siguiente forma:\n",
    "altura1\n",
    "altura2"
   ]
  },
  {
   "cell_type": "code",
   "execution_count": 29,
   "metadata": {},
   "outputs": [],
   "source": [
    "altura1 = 1.50\n",
    "altura2 = 8.97"
   ]
  },
  {
   "cell_type": "markdown",
   "metadata": {},
   "source": [
    "4.Utilizando los operadores matemáticos aprendidos en la lección:\n",
    "Cuál es la suma de las dos alturas\n",
    "Cuál es la diferencia entre las alturas\n",
    "Cuál es el resto de la división de las dos alturas\n",
    "Cuál es resultado de la división de las dos alturas, redondead el resultado a un decimal."
   ]
  },
  {
   "cell_type": "code",
   "execution_count": 30,
   "metadata": {},
   "outputs": [
    {
     "data": {
      "text/plain": [
       "10.47"
      ]
     },
     "execution_count": 30,
     "metadata": {},
     "output_type": "execute_result"
    }
   ],
   "source": [
    "altura1 + altura2"
   ]
  },
  {
   "cell_type": "code",
   "execution_count": 31,
   "metadata": {},
   "outputs": [
    {
     "data": {
      "text/plain": [
       "-7.470000000000001"
      ]
     },
     "execution_count": 31,
     "metadata": {},
     "output_type": "execute_result"
    }
   ],
   "source": [
    "altura1 - altura2"
   ]
  },
  {
   "cell_type": "code",
   "execution_count": 33,
   "metadata": {},
   "outputs": [
    {
     "data": {
      "text/plain": [
       "1.4700000000000006"
      ]
     },
     "execution_count": 33,
     "metadata": {},
     "output_type": "execute_result"
    }
   ],
   "source": [
    "altura2 % altura1"
   ]
  },
  {
   "cell_type": "code",
   "execution_count": 35,
   "metadata": {},
   "outputs": [
    {
     "data": {
      "text/plain": [
       "6"
      ]
     },
     "execution_count": 35,
     "metadata": {},
     "output_type": "execute_result"
    }
   ],
   "source": [
    "round(altura2 / altura1)"
   ]
  },
  {
   "cell_type": "markdown",
   "metadata": {},
   "source": [
    "5.Escribid un programa usando la función input() que le pregunte al usuario su nombre y apellidos. Una vez que tengamos el nombre del usuario:\n",
    "Printead su nombre y apellidos todo en mayúsculas\n",
    "Printead su nombre y apellidos todo en minúsculas\n",
    "Printead su nombre y apellidos con la primera letra del nombre y los apellidos en mayúscula y el resto en minúscula.\n",
    "Printeas solo la primera letra del nombre en mayúscula."
   ]
  },
  {
   "cell_type": "code",
   "execution_count": 41,
   "metadata": {},
   "outputs": [
    {
     "name": "stdout",
     "output_type": "stream",
     "text": [
      "ANA NUÑEZ\n",
      "ana nuñez\n"
     ]
    }
   ],
   "source": [
    "nombre = input(\"nombre\")\n",
    "apellido = input(\"apellido\")\n",
    "nombre_completo = nombre + \" \" + apellido\n",
    "print(nombre_completo.upper())\n",
    "print(nombre_completo.lower())\n"
   ]
  },
  {
   "cell_type": "code",
   "execution_count": 43,
   "metadata": {},
   "outputs": [
    {
     "name": "stdout",
     "output_type": "stream",
     "text": [
      "Ana Nuñez\n",
      "Ana nuñez\n"
     ]
    }
   ],
   "source": [
    "print(nombre_completo.title())\n",
    "print(nombre_completo.capitalize())"
   ]
  },
  {
   "cell_type": "markdown",
   "metadata": {},
   "source": [
    "6.Escribid un programa usando la función input() que:\n",
    "Le pregunte al usuario por una frase, almacenad este resultado en una variable.\n",
    "Le pregunte al usuario por una vocal, almacenad este resultado en una variable.\n",
    "Printead la misma frase pero con la vocal introducida en mayúsulas."
   ]
  },
  {
   "cell_type": "code",
   "execution_count": 52,
   "metadata": {},
   "outputs": [
    {
     "name": "stdout",
     "output_type": "stream",
     "text": [
      "quiero una chuche\n",
      "quiEro una chuchE\n"
     ]
    }
   ],
   "source": [
    "frase = input(\"Dime una frase\")\n",
    "vocal = input(\"Dime una vocal\")\n",
    "print(frase)\n",
    "frase2 = frase.replace(vocal, vocal.upper())\n",
    "print(frase2)"
   ]
  },
  {
   "cell_type": "markdown",
   "metadata": {},
   "source": [
    "7.Escribid un programa usando la función input() que:\n",
    "Le pregunte al usuario por la lista de la compra, separando cada elemento por comas.\n",
    "Devolved la lista de compra donde veamos cada elemento en una línea.\n",
    "💡Pista:\n",
    "Para indicar salto de línea usaremos \"\\n\".\n",
    "Deberéis usar el método join de los strings\n",
    "📌 Output deseado: resultado_del_input = [\"peras\", \"manzanas\", \"naranjas\"]\n",
    "\n",
    "# output después del ejercicio\n",
    "\"peras\"\n",
    "\"manzanas\"\n",
    "\"naranjas\""
   ]
  },
  {
   "cell_type": "code",
   "execution_count": 63,
   "metadata": {},
   "outputs": [
    {
     "name": "stdout",
     "output_type": "stream",
     "text": [
      "pera\n",
      "manzana\n",
      "limon\n"
     ]
    }
   ],
   "source": [
    "lista_de_compra1 = input()\n",
    "lista_de_compra2 = input()\n",
    "lista_de_compra3 = input()\n",
    "print(lista_de_compra1)\n",
    "print(lista_de_compra2)\n",
    "print(lista_de_compra3)"
   ]
  }
 ],
 "metadata": {
  "kernelspec": {
   "display_name": "Python 3",
   "language": "python",
   "name": "python3"
  },
  "language_info": {
   "codemirror_mode": {
    "name": "ipython",
    "version": 3
   },
   "file_extension": ".py",
   "mimetype": "text/x-python",
   "name": "python",
   "nbconvert_exporter": "python",
   "pygments_lexer": "ipython3",
   "version": "3.12.1"
  }
 },
 "nbformat": 4,
 "nbformat_minor": 2
}
